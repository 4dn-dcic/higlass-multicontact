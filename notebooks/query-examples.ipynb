{
 "cells": [
  {
   "cell_type": "markdown",
   "metadata": {},
   "source": [
    "# Example Feature-Based Cluster Queries"
   ]
  },
  {
   "cell_type": "code",
   "execution_count": 1,
   "metadata": {},
   "outputs": [],
   "source": [
    "%load_ext autoreload\n",
    "%autoreload 2\n",
    "%matplotlib inline\n",
    "\n",
    "import os\n",
    "import sys\n",
    "\n",
    "module_path = os.path.abspath(os.path.join('..'))\n",
    "if module_path not in sys.path:\n",
    "    sys.path.append(module_path)"
   ]
  },
  {
   "cell_type": "code",
   "execution_count": 11,
   "metadata": {},
   "outputs": [],
   "source": [
    "import h5py\n",
    "import math\n",
    "import numpy as np"
   ]
  },
  {
   "cell_type": "code",
   "execution_count": 4,
   "metadata": {},
   "outputs": [],
   "source": [
    "chrom = 'chr7'\n",
    "bin_size = 100000\n",
    "\n",
    "cluster_tsv_file = '../data/hg19/gm12878_triplets_chr7_100kb_pooled.tsv.gz'\n",
    "cluster_h5_file = '../data/hg19/gm12878_triplets_chr7_100kb_pooled.h5'\n",
    "\n",
    "chrom_sizes_file = '../data/hg19/hg19.chrom.sizes'\n",
    "\n",
    "tads_arrowhead_bed_file = '../data/hg19/Rao_RepH_GM12878_Arrowhead.sorted.bed'\n",
    "tads_arrowhead_sqlite_file = '../data/hg19/Rao_RepH_GM12878_Arrowhead.sorted.sqlite'\n",
    "\n",
    "chromhmm_bed_file = '../data/hg19/wgEncodeBroadHmmGm12878HMM.bed.gz'\n",
    "chromhmm_sqlite_file = '../data/hg19/wgEncodeBroadHmmGm12878HMM.sqlite'\n",
    "\n",
    "subcompartments_bed_file = '../data/hg19/GSE63525_GM12878_subcompartments.bed.gz'\n",
    "subcompartments_sqlite_file = '../data/hg19/GSE63525_GM12878_subcompartments.sqlite'\n",
    "\n",
    "loop_extents_bed_file = '../data/hg19/GSE63525_GM12878_replicate_HiCCUPS_loop_extent_list.bed.gz'\n",
    "loop_extents_sqlite_file = '../data/hg19/GSE63525_GM12878_replicate_HiCCUPS_loop_extent_list.sqlite'"
   ]
  },
  {
   "cell_type": "code",
   "execution_count": 5,
   "metadata": {},
   "outputs": [],
   "source": [
    "from hgmc.utils import get_chrom_sizes\n",
    "\n",
    "chrom_size = get_chrom_sizes(chrom_sizes_file).get(chrom)\n",
    "num_bins = math.ceil(chrom_size / bin_size)"
   ]
  },
  {
   "cell_type": "markdown",
   "metadata": {},
   "source": [
    "# Load Features"
   ]
  },
  {
   "cell_type": "code",
   "execution_count": 6,
   "metadata": {},
   "outputs": [
    {
     "data": {
      "text/plain": [
       "['1_Active_Promoter',\n",
       " '2_Weak_Promoter',\n",
       " '3_Poised_Promoter',\n",
       " '4_Strong_Enhancer',\n",
       " '5_Strong_Enhancer',\n",
       " '6_Weak_Enhancer',\n",
       " '7_Weak_Enhancer',\n",
       " '8_Insulator',\n",
       " '9_Txn_Transition',\n",
       " '10_Txn_Elongation',\n",
       " '11_Weak_Txn',\n",
       " '12_Repressed',\n",
       " '13_Heterochrom/lo',\n",
       " '14_Repetitive/CNV',\n",
       " '15_Repetitive/CNV']"
      ]
     },
     "execution_count": 6,
     "metadata": {},
     "output_type": "execute_result"
    }
   ],
   "source": [
    "from hgmc.bed import sql_features\n",
    "from utils import natural_sort\n",
    "\n",
    "chromhmm_features = natural_sort(sql_features(chromhmm_sqlite_file))\n",
    "chromhmm_features"
   ]
  },
  {
   "cell_type": "code",
   "execution_count": 8,
   "metadata": {},
   "outputs": [
    {
     "name": "stdout",
     "output_type": "stream",
     "text": [
      "Took 0.055 sec\n",
      "883 bins contain TADs with at most 3 TADs per bin\n",
      "Took 3.567 sec\n",
      "400 bins contain active promoters with at most 8 active promoters per bin\n",
      "Took 4.758 sec\n",
      "517 bins contain enhancers with at most 38 enhancers per bin\n",
      "Took 0.068 sec\n",
      "576 bins are A compartment\n",
      "Took 0.085 sec\n",
      "936 bins are B compartment\n",
      "Took 0.098 sec\n",
      "1107 bins contain loops with at most 7 loops per bin\n"
     ]
    }
   ],
   "source": [
    "from hgmc.bed import sql_coverage\n",
    "\n",
    "tad_coverage_100kb = sql_coverage(\n",
    "    tads_arrowhead_sqlite_file,\n",
    "    chrom=chrom,\n",
    "    bin_size=bin_size,\n",
    "    # At least 80% of the TAD needs to be in the bin to count\n",
    "    count_at_feat_cov=0.8,\n",
    "    rel_count_at_bin_cov=True,\n",
    "    timeit=True\n",
    ")\n",
    "print(f'{tad_coverage_100kb.astype(bool).sum()} bins contain TADs with at most {tad_coverage_100kb.max()} TADs per bin')\n",
    "\n",
    "active_promoter_coverage_100kb = sql_coverage(\n",
    "    chromhmm_sqlite_file,\n",
    "    chrom=chrom,\n",
    "    bin_size=bin_size,\n",
    "    features='1_Active_Promoter',\n",
    "    # The entire promoter needs to be in the bin to count\n",
    "    count_at_feat_cov=1.0,\n",
    "    rel_count_at_bin_cov=True,\n",
    "    timeit=True\n",
    ")\n",
    "print(f'{active_promoter_coverage_100kb.astype(bool).sum()} bins contain active promoters with at most {active_promoter_coverage_100kb.max()} active promoters per bin')\n",
    "\n",
    "strong_enhancer_coverage_100kb = sql_coverage(\n",
    "    chromhmm_sqlite_file,\n",
    "    chrom=chrom,\n",
    "    bin_size=bin_size,\n",
    "    features=['4_Strong_Enhancer', '5_Strong_Enhancer'],\n",
    "    # The entire enhancer needs to be in the bin to count\n",
    "    count_at_feat_cov=1.0,\n",
    "    rel_count_at_bin_cov=True,\n",
    "    timeit=True\n",
    ")\n",
    "print(f'{strong_enhancer_coverage_100kb.astype(bool).sum()} bins contain enhancers with at most {strong_enhancer_coverage_100kb.max()} enhancers per bin')\n",
    "\n",
    "a_compartment_coverage_100kb = sql_coverage(\n",
    "    subcompartments_sqlite_file,\n",
    "    chrom=chrom,\n",
    "    bin_size=bin_size,\n",
    "    features=['A1', 'A2'],\n",
    "    # At least 80% of the bin need to be an A compartment to count\n",
    "    count_at_bin_cov=0.8,\n",
    "    rel_count_at_bin_cov=True,\n",
    "    timeit=True\n",
    ")\n",
    "print(f'{a_compartment_coverage_100kb.astype(bool).sum()} bins are A compartment')\n",
    "\n",
    "b_compartment_coverage_100kb = sql_coverage(\n",
    "    subcompartments_sqlite_file,\n",
    "    chrom=chrom,\n",
    "    bin_size=bin_size,\n",
    "    features=['B1', 'B2', 'B3', 'B4'],\n",
    "    # At least 80% of the bin need to be an A compartment to count\n",
    "    count_at_bin_cov=0.8,\n",
    "    rel_count_at_bin_cov=True,\n",
    "    timeit=True\n",
    ")\n",
    "print(f'{b_compartment_coverage_100kb.astype(bool).sum()} bins are B compartment')\n",
    "\n",
    "loop_extent_coverage_100kb = sql_coverage(\n",
    "    loop_extents_sqlite_file,\n",
    "    chrom=chrom,\n",
    "    bin_size=bin_size,\n",
    "    # Only count if the entire loop extent is in the bin\n",
    "    count_at_feat_cov=1.0,\n",
    "    rel_count_at_bin_cov=True,\n",
    "    timeit=True\n",
    ")\n",
    "print(f'{loop_extent_coverage_100kb.astype(bool).sum()} bins contain loops with at most {loop_extent_coverage_100kb.max()} loops per bin')"
   ]
  },
  {
   "cell_type": "code",
   "execution_count": 9,
   "metadata": {},
   "outputs": [],
   "source": [
    "all_features = [\n",
    "    ('TADs', tad_coverage_100kb),\n",
    "    ('Active Promoters', active_promoter_coverage_100kb),\n",
    "    ('Strong Enhancers', strong_enhancer_coverage_100kb),\n",
    "    ('A Compartments', a_compartment_coverage_100kb),\n",
    "    ('B Compartments', b_compartment_coverage_100kb),\n",
    "    ('Loops', loop_extent_coverage_100kb),\n",
    "]"
   ]
  },
  {
   "cell_type": "markdown",
   "metadata": {},
   "source": [
    "# Queries\n",
    "#### Find all triplets that anchor in 3 TADs"
   ]
  },
  {
   "cell_type": "code",
   "execution_count": 12,
   "metadata": {},
   "outputs": [
    {
     "name": "stdout",
     "output_type": "stream",
     "text": [
      "There are 883 bins with TADs\n",
      "Verify results...\n",
      "Hooray! The clusters conform to the query.\n",
      "Found 9052583 clusters\n"
     ]
    }
   ],
   "source": [
    "from hgmc.clusters import query_by_features, verify_queried_clusters\n",
    "\n",
    "print(f'There are {tad_coverage_100kb.astype(bool).sum()} bins with TADs')\n",
    "\n",
    "with h5py.File(cluster_h5_file, 'r') as h5:\n",
    "    query = [(tad_coverage_100kb.astype(bool), 3)]\n",
    "    tad_cluster_ids = query_by_features(h5, query, verbose=True, verify=True)\n",
    "    print(f'Found {tad_cluster_ids.size} clusters')"
   ]
  },
  {
   "cell_type": "markdown",
   "metadata": {},
   "source": [
    "#### Find all triplets that anchor in at least 1 promoter and at least 2 active enhancers"
   ]
  },
  {
   "cell_type": "code",
   "execution_count": 13,
   "metadata": {},
   "outputs": [
    {
     "name": "stdout",
     "output_type": "stream",
     "text": [
      "Verify results...\n",
      "Hooray! The clusters conform to the query.\n",
      "Found 1040286 clusters\n"
     ]
    }
   ],
   "source": [
    "with h5py.File(cluster_h5_file, 'r') as h5:\n",
    "    query = [\n",
    "        (active_promoter_coverage_100kb.astype(bool), 1),\n",
    "        (strong_enhancer_coverage_100kb.astype(bool), 2)\n",
    "    ]\n",
    "    promoter_enhancer_cluster_ids = query_by_features(h5, query, verbose=True, verify=True)\n",
    "    print(f'Found {promoter_enhancer_cluster_ids.size} clusters')"
   ]
  },
  {
   "cell_type": "code",
   "execution_count": 15,
   "metadata": {},
   "outputs": [
    {
     "name": "stdout",
     "output_type": "stream",
     "text": [
      "Mask generation took 0.2 sec\n",
      "Cluster start/stop extraction took 0.8 sec\n",
      "Vrange calculation took 0.0 sec\n",
      "Cluster-to-bin extraction took 0.6 sec\n",
      "Bin extraction took 0.1 sec\n",
      "Total took 1.7 sec\n",
      "Found 3120858 bins (617 bins)\n"
     ]
    }
   ],
   "source": [
    "from hgmc.clusters import clusters_to_bins\n",
    "\n",
    "with h5py.File(cluster_h5_file, 'r') as h5:\n",
    "    promoter_enhancer_cluster_bins = clusters_to_bins(h5, promoter_enhancer_cluster_ids, timeit=True)\n",
    "    unique_promoter_enhancer_cluster_bins = np.unique(promoter_enhancer_cluster_bins[:, 1])\n",
    "    print(f'Found {promoter_enhancer_cluster_bins.shape[0]} bins ({unique_promoter_enhancer_cluster_bins.size} bins)')"
   ]
  },
  {
   "cell_type": "code",
   "execution_count": 16,
   "metadata": {},
   "outputs": [
    {
     "data": {
      "image/png": "[encoded data removed]",
      "text/plain": [
       "<Figure size 864x576 with 2 Axes>"
      ]
     },
     "metadata": {
      "needs_background": "light"
     },
     "output_type": "display_data"
    }
   ],
   "source": [
    "from hgmc.plots import plot_cluster_feature_distribution\n",
    "\n",
    "with h5py.File(cluster_h5_file, 'r') as h5:\n",
    "    plot_cluster_feature_distribution(h5, promoter_enhancer_cluster_bins, all_features)"
   ]
  },
  {
   "cell_type": "code",
   "execution_count": null,
   "metadata": {},
   "outputs": [],
   "source": []
  }
 ],
 "metadata": {
  "kernelspec": {
   "display_name": "Python 3",
   "language": "python",
   "name": "python3"
  },
  "language_info": {
   "codemirror_mode": {
    "name": "ipython",
    "version": 3
   },
   "file_extension": ".py",
   "mimetype": "text/x-python",
   "name": "python",
   "nbconvert_exporter": "python",
   "pygments_lexer": "ipython3",
   "version": "3.7.6"
  }
 },
 "nbformat": 4,
 "nbformat_minor": 4
}
