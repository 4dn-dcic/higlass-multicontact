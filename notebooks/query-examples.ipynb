{
 "cells": [
  {
   "cell_type": "markdown",
   "metadata": {},
   "source": [
    "# Example Feature-Based Cluster Queries"
   ]
  },
  {
   "cell_type": "code",
   "execution_count": 19,
   "metadata": {},
   "outputs": [
    {
     "name": "stdout",
     "output_type": "stream",
     "text": [
      "The autoreload extension is already loaded. To reload it, use:\n",
      "  %reload_ext autoreload\n"
     ]
    }
   ],
   "source": [
    "%load_ext autoreload\n",
    "%autoreload 2\n",
    "%matplotlib inline\n",
    "\n",
    "import os\n",
    "import sys\n",
    "\n",
    "module_path = os.path.abspath(os.path.join('..'))\n",
    "if module_path not in sys.path:\n",
    "    sys.path.append(module_path)"
   ]
  },
  {
   "cell_type": "code",
   "execution_count": 20,
   "metadata": {},
   "outputs": [],
   "source": [
    "import h5py\n",
    "import math\n",
    "import numpy as np"
   ]
  },
  {
   "cell_type": "code",
   "execution_count": 21,
   "metadata": {},
   "outputs": [],
   "source": [
    "chrom = 'chr7'\n",
    "bin_size = 100000\n",
    "\n",
    "cluster_tsv_file = '../data/hg19/gm12878_triplets_chr7_100kb_pooled.tsv.gz'\n",
    "cluster_h5_file = '../data/hg19/gm12878_triplets_chr7_100kb_pooled.h5'\n",
    "\n",
    "chrom_sizes_file = '../data/hg19/hg19.chrom.sizes'\n",
    "\n",
    "tads_arrowhead_bed_file = '../data/hg19/Rao_RepH_GM12878_Arrowhead.sorted.bed'\n",
    "tads_arrowhead_sqlite_file = '../data/hg19/Rao_RepH_GM12878_Arrowhead.sorted.sqlite'\n",
    "\n",
    "chromhmm_bed_file = '../data/hg19/wgEncodeBroadHmmGm12878HMM.bed.gz'\n",
    "chromhmm_sqlite_file = '../data/hg19/wgEncodeBroadHmmGm12878HMM.sqlite'\n",
    "\n",
    "subcompartments_bed_file = '../data/hg19/GSE63525_GM12878_subcompartments.bed.gz'\n",
    "subcompartments_sqlite_file = '../data/hg19/GSE63525_GM12878_subcompartments.sqlite'\n",
    "\n",
    "loop_extents_bed_file = '../data/hg19/GSE63525_GM12878_replicate_HiCCUPS_loop_extent_list.bed.gz'\n",
    "loop_extents_sqlite_file = '../data/hg19/GSE63525_GM12878_replicate_HiCCUPS_loop_extent_list.sqlite'"
   ]
  },
  {
   "cell_type": "code",
   "execution_count": 22,
   "metadata": {},
   "outputs": [],
   "source": [
    "from hgmc.utils import get_chrom_sizes\n",
    "\n",
    "chrom_size = get_chrom_sizes(chrom_sizes_file).get(chrom)\n",
    "num_bins = math.ceil(chrom_size / bin_size)"
   ]
  },
  {
   "cell_type": "markdown",
   "metadata": {},
   "source": [
    "# Load Features"
   ]
  },
  {
   "cell_type": "code",
   "execution_count": 23,
   "metadata": {},
   "outputs": [
    {
     "data": {
      "text/plain": [
       "['1_Active_Promoter',\n",
       " '2_Weak_Promoter',\n",
       " '3_Poised_Promoter',\n",
       " '4_Strong_Enhancer',\n",
       " '5_Strong_Enhancer',\n",
       " '6_Weak_Enhancer',\n",
       " '7_Weak_Enhancer',\n",
       " '8_Insulator',\n",
       " '9_Txn_Transition',\n",
       " '10_Txn_Elongation',\n",
       " '11_Weak_Txn',\n",
       " '12_Repressed',\n",
       " '13_Heterochrom/lo',\n",
       " '14_Repetitive/CNV',\n",
       " '15_Repetitive/CNV']"
      ]
     },
     "execution_count": 23,
     "metadata": {},
     "output_type": "execute_result"
    }
   ],
   "source": [
    "from hgmc.bed import sql_features\n",
    "from utils import natural_sort\n",
    "\n",
    "chromhmm_features = natural_sort(sql_features(chromhmm_sqlite_file))\n",
    "chromhmm_features"
   ]
  },
  {
   "cell_type": "code",
   "execution_count": 24,
   "metadata": {},
   "outputs": [
    {
     "name": "stdout",
     "output_type": "stream",
     "text": [
      "Took 0.054 sec\n",
      "883 bins contain TADs with at most 3 TADs per bin\n",
      "Took 3.931 sec\n",
      "400 bins contain active promoters with at most 8 active promoters per bin\n",
      "Took 4.632 sec\n",
      "517 bins contain enhancers with at most 38 enhancers per bin\n",
      "Took 0.082 sec\n",
      "576 bins are A compartment\n",
      "Took 0.084 sec\n",
      "936 bins are B compartment\n",
      "Took 0.097 sec\n",
      "1107 bins contain loops with at most 7 loops per bin\n"
     ]
    }
   ],
   "source": [
    "from hgmc.bed import sql_coverage\n",
    "\n",
    "tad_coverage_100kb = sql_coverage(\n",
    "    tads_arrowhead_sqlite_file,\n",
    "    chrom=chrom,\n",
    "    bin_size=bin_size,\n",
    "    # At least 80% of the TAD needs to be in the bin to count\n",
    "    count_at_feat_cov=0.8,\n",
    "    rel_count_at_bin_cov=True,\n",
    "    timeit=True\n",
    ")\n",
    "print(f'{tad_coverage_100kb.astype(bool).sum()} bins contain TADs with at most {tad_coverage_100kb.max()} TADs per bin')\n",
    "\n",
    "active_promoter_coverage_100kb = sql_coverage(\n",
    "    chromhmm_sqlite_file,\n",
    "    chrom=chrom,\n",
    "    bin_size=bin_size,\n",
    "    features='1_Active_Promoter',\n",
    "    # The entire promoter needs to be in the bin to count\n",
    "    count_at_feat_cov=1.0,\n",
    "    rel_count_at_bin_cov=True,\n",
    "    timeit=True\n",
    ")\n",
    "print(f'{active_promoter_coverage_100kb.astype(bool).sum()} bins contain active promoters with at most {active_promoter_coverage_100kb.max()} active promoters per bin')\n",
    "\n",
    "strong_enhancer_coverage_100kb = sql_coverage(\n",
    "    chromhmm_sqlite_file,\n",
    "    chrom=chrom,\n",
    "    bin_size=bin_size,\n",
    "    features=['4_Strong_Enhancer', '5_Strong_Enhancer'],\n",
    "    # The entire enhancer needs to be in the bin to count\n",
    "    count_at_feat_cov=1.0,\n",
    "    rel_count_at_bin_cov=True,\n",
    "    timeit=True\n",
    ")\n",
    "print(f'{strong_enhancer_coverage_100kb.astype(bool).sum()} bins contain enhancers with at most {strong_enhancer_coverage_100kb.max()} enhancers per bin')\n",
    "\n",
    "a_compartment_coverage_100kb = sql_coverage(\n",
    "    subcompartments_sqlite_file,\n",
    "    chrom=chrom,\n",
    "    bin_size=bin_size,\n",
    "    features=['A1', 'A2'],\n",
    "    # At least 80% of the bin need to be an A compartment to count\n",
    "    count_at_bin_cov=0.8,\n",
    "    rel_count_at_bin_cov=True,\n",
    "    timeit=True\n",
    ")\n",
    "print(f'{a_compartment_coverage_100kb.astype(bool).sum()} bins are A compartment')\n",
    "\n",
    "b_compartment_coverage_100kb = sql_coverage(\n",
    "    subcompartments_sqlite_file,\n",
    "    chrom=chrom,\n",
    "    bin_size=bin_size,\n",
    "    features=['B1', 'B2', 'B3', 'B4'],\n",
    "    # At least 80% of the bin need to be an A compartment to count\n",
    "    count_at_bin_cov=0.8,\n",
    "    rel_count_at_bin_cov=True,\n",
    "    timeit=True\n",
    ")\n",
    "print(f'{b_compartment_coverage_100kb.astype(bool).sum()} bins are B compartment')\n",
    "\n",
    "loop_extent_coverage_100kb = sql_coverage(\n",
    "    loop_extents_sqlite_file,\n",
    "    chrom=chrom,\n",
    "    bin_size=bin_size,\n",
    "    # Only count if the entire loop extent is in the bin\n",
    "    count_at_feat_cov=1.0,\n",
    "    rel_count_at_bin_cov=True,\n",
    "    timeit=True\n",
    ")\n",
    "print(f'{loop_extent_coverage_100kb.astype(bool).sum()} bins contain loops with at most {loop_extent_coverage_100kb.max()} loops per bin')"
   ]
  },
  {
   "cell_type": "code",
   "execution_count": 25,
   "metadata": {},
   "outputs": [],
   "source": [
    "all_features = [\n",
    "    ('TADs', tad_coverage_100kb),\n",
    "    ('Active Promoters', active_promoter_coverage_100kb),\n",
    "    ('Strong Enhancers', strong_enhancer_coverage_100kb),\n",
    "    ('A Compartments', a_compartment_coverage_100kb),\n",
    "    ('B Compartments', b_compartment_coverage_100kb),\n",
    "    ('Loops', loop_extent_coverage_100kb),\n",
    "]"
   ]
  },
  {
   "cell_type": "markdown",
   "metadata": {},
   "source": [
    "# Queries\n",
    "## Find all triplets that span A-only compartments"
   ]
  },
  {
   "cell_type": "code",
   "execution_count": 47,
   "metadata": {},
   "outputs": [
    {
     "name": "stdout",
     "output_type": "stream",
     "text": [
      "Mask creation took 0.54 sec\n",
      "bin_to_cluster and cluster_to_bin extraction took 6.56 sec\n",
      "Bin starts and ends extraction took 0.00 sec\n",
      "Getting the unique cluster IDs took 1.14 sec\n",
      "Total query took 8.24 sec\n",
      "Verify results...\n",
      "Mask generation took 0.4 sec\n",
      "Cluster start/stop extraction took 2.5 sec\n",
      "Vrange calculation took 0.3 sec\n",
      "Cluster-to-bin extraction took 3.4 sec\n",
      "Bin extraction took 0.0 sec\n",
      "Total took 6.6 sec\n",
      "Hooray! The clusters conform to the query.\n",
      "Found 22481057 clusters\n"
     ]
    }
   ],
   "source": [
    "from hgmc.clusters import clusters_to_bins, query_by_features, verify_queried_clusters\n",
    "from hgmc.plots import plot_cluster_feature_distribution\n",
    "\n",
    "with h5py.File(cluster_h5_file, 'r') as h5:\n",
    "    #####\n",
    "    query = [(a_compartment_coverage_100kb.astype(bool), 3)]\n",
    "    #####\n",
    "    \n",
    "    a_cluster_ids = query_by_features(h5, query, verbose=True, verify=True, timeit=True)\n",
    "    print(f'Found {ab_cluster_ids.size} clusters')"
   ]
  },
  {
   "cell_type": "code",
   "execution_count": 44,
   "metadata": {},
   "outputs": [
    {
     "name": "stdout",
     "output_type": "stream",
     "text": [
      "Found 9740508 bins (576 bins)\n"
     ]
    }
   ],
   "source": [
    "with h5py.File(cluster_h5_file, 'r') as h5:\n",
    "    a_cluster_bins = clusters_to_bins(h5, a_cluster_ids)\n",
    "    unique_a_cluster_bins = np.unique(a_cluster_bins[:, 1])\n",
    "    print(f'Found {a_cluster_bins.shape[0]} bins ({unique_a_cluster_bins.size} bins)')"
   ]
  },
  {
   "cell_type": "code",
   "execution_count": 45,
   "metadata": {},
   "outputs": [
    {
     "data": {
      "image/png": "[encoded data removed]",
      "text/plain": [
       "<Figure size 864x432 with 2 Axes>"
      ]
     },
     "metadata": {
      "needs_background": "light"
     },
     "output_type": "display_data"
    }
   ],
   "source": [
    "with h5py.File(cluster_h5_file, 'r') as h5:\n",
    "    plot_cluster_feature_distribution(h5, a_cluster_bins, all_features, figsize=(12, 6))"
   ]
  },
  {
   "cell_type": "markdown",
   "metadata": {},
   "source": [
    "## Find all triplets that span A&B compartments"
   ]
  },
  {
   "cell_type": "code",
   "execution_count": 33,
   "metadata": {},
   "outputs": [
    {
     "name": "stdout",
     "output_type": "stream",
     "text": [
      "Verify results...\n",
      "Hooray! The clusters conform to the query.\n",
      "Found 22481057 clusters\n"
     ]
    }
   ],
   "source": [
    "with h5py.File(cluster_h5_file, 'r') as h5:\n",
    "    #####\n",
    "    query = [(a_compartment_coverage_100kb.astype(bool), 1), (b_compartment_coverage_100kb.astype(bool), 1)]\n",
    "    #####\n",
    "    \n",
    "    ab_cluster_ids = query_by_features(h5, query, verbose=True, verify=True)\n",
    "    print(f'Found {ab_cluster_ids.size} clusters')"
   ]
  },
  {
   "cell_type": "code",
   "execution_count": 34,
   "metadata": {},
   "outputs": [
    {
     "name": "stdout",
     "output_type": "stream",
     "text": [
      "Found 67443171 bins (1562 bins)\n"
     ]
    }
   ],
   "source": [
    "with h5py.File(cluster_h5_file, 'r') as h5:\n",
    "    ab_cluster_bins = clusters_to_bins(h5, ab_cluster_ids)\n",
    "    unique_ab_cluster_bins = np.unique(ab_cluster_bins[:, 1])\n",
    "    print(f'Found {ab_cluster_bins.shape[0]} bins ({unique_ab_cluster_bins.size} bins)')"
   ]
  },
  {
   "cell_type": "code",
   "execution_count": 39,
   "metadata": {},
   "outputs": [
    {
     "data": {
      "image/png": "[encoded data removed]",
      "text/plain": [
       "<Figure size 864x432 with 2 Axes>"
      ]
     },
     "metadata": {
      "needs_background": "light"
     },
     "output_type": "display_data"
    }
   ],
   "source": [
    "with h5py.File(cluster_h5_file, 'r') as h5:\n",
    "    plot_cluster_feature_distribution(h5, ab_cluster_bins, all_features, figsize=(12, 6))"
   ]
  },
  {
   "cell_type": "markdown",
   "metadata": {},
   "source": [
    "## Find all triplets that anchor in 3 peaks/loops"
   ]
  },
  {
   "cell_type": "code",
   "execution_count": 36,
   "metadata": {},
   "outputs": [
    {
     "name": "stdout",
     "output_type": "stream",
     "text": [
      "There are 1107 bins with peaks\n",
      "Verify results...\n",
      "Hooray! The clusters conform to the query.\n",
      "Found 15403326 clusters\n"
     ]
    }
   ],
   "source": [
    "print(f'There are {loop_extent_coverage_100kb.astype(bool).sum()} bins with peaks')\n",
    "\n",
    "with h5py.File(cluster_h5_file, 'r') as h5:\n",
    "    #####\n",
    "    query = [(loop_extent_coverage_100kb.astype(bool), 3)]\n",
    "    #####\n",
    "    \n",
    "    loop_cluster_ids = query_by_features(h5, query, verbose=True, verify=True)\n",
    "    print(f'Found {loop_cluster_ids.size} clusters')"
   ]
  },
  {
   "cell_type": "code",
   "execution_count": 37,
   "metadata": {},
   "outputs": [
    {
     "name": "stdout",
     "output_type": "stream",
     "text": [
      "Found 46209978 bins (1107 bins)\n"
     ]
    }
   ],
   "source": [
    "with h5py.File(cluster_h5_file, 'r') as h5:\n",
    "    loop_cluster_bins = clusters_to_bins(h5, loop_cluster_ids)\n",
    "    unique_loop_cluster_bins = np.unique(loop_cluster_bins[:, 1])\n",
    "    print(f'Found {loop_cluster_bins.shape[0]} bins ({unique_loop_cluster_bins.size} bins)')"
   ]
  },
  {
   "cell_type": "code",
   "execution_count": 40,
   "metadata": {},
   "outputs": [
    {
     "data": {
      "image/png": "[encoded data removed]",
      "text/plain": [
       "<Figure size 864x432 with 2 Axes>"
      ]
     },
     "metadata": {
      "needs_background": "light"
     },
     "output_type": "display_data"
    }
   ],
   "source": [
    "with h5py.File(cluster_h5_file, 'r') as h5:\n",
    "    plot_cluster_feature_distribution(h5, loop_cluster_bins, all_features, figsize=(12,6))"
   ]
  },
  {
   "cell_type": "markdown",
   "metadata": {},
   "source": [
    "## Find all triplets that anchor in 3 TADs"
   ]
  },
  {
   "cell_type": "code",
   "execution_count": 27,
   "metadata": {},
   "outputs": [
    {
     "name": "stdout",
     "output_type": "stream",
     "text": [
      "There are 883 bins with TADs\n",
      "Verify results...\n",
      "Hooray! The clusters conform to the query.\n",
      "Found 9052583 clusters\n"
     ]
    }
   ],
   "source": [
    "print(f'There are {tad_coverage_100kb.astype(bool).sum()} bins with TADs')\n",
    "\n",
    "with h5py.File(cluster_h5_file, 'r') as h5:\n",
    "    #####\n",
    "    query = [(tad_coverage_100kb.astype(bool), 3)]\n",
    "    #####\n",
    "    \n",
    "    tad_cluster_ids = query_by_features(h5, query, verbose=True, verify=True)\n",
    "    print(f'Found {tad_cluster_ids.size} clusters')"
   ]
  },
  {
   "cell_type": "code",
   "execution_count": 28,
   "metadata": {},
   "outputs": [
    {
     "name": "stdout",
     "output_type": "stream",
     "text": [
      "Found 27157749 bins (882 bins)\n"
     ]
    }
   ],
   "source": [
    "with h5py.File(cluster_h5_file, 'r') as h5:\n",
    "    tad_cluster_bins = clusters_to_bins(h5, tad_cluster_ids)\n",
    "    unique_tad_cluster_bins = np.unique(tad_cluster_bins[:, 1])\n",
    "    print(f'Found {tad_cluster_bins.shape[0]} bins ({unique_tad_cluster_bins.size} bins)')"
   ]
  },
  {
   "cell_type": "code",
   "execution_count": 41,
   "metadata": {},
   "outputs": [
    {
     "data": {
      "image/png": "[encoded data removed]",
      "text/plain": [
       "<Figure size 864x432 with 2 Axes>"
      ]
     },
     "metadata": {
      "needs_background": "light"
     },
     "output_type": "display_data"
    }
   ],
   "source": [
    "with h5py.File(cluster_h5_file, 'r') as h5:\n",
    "    plot_cluster_feature_distribution(h5, tad_cluster_bins, all_features, figsize=(12,6))"
   ]
  },
  {
   "cell_type": "markdown",
   "metadata": {},
   "source": [
    "## Find all triplets that anchor in at least 1 promoter and at least 2 active enhancers"
   ]
  },
  {
   "cell_type": "code",
   "execution_count": 30,
   "metadata": {},
   "outputs": [
    {
     "name": "stdout",
     "output_type": "stream",
     "text": [
      "Verify results...\n",
      "Hooray! The clusters conform to the query.\n",
      "Found 1040286 clusters\n"
     ]
    }
   ],
   "source": [
    "with h5py.File(cluster_h5_file, 'r') as h5:\n",
    "    query = [\n",
    "        (active_promoter_coverage_100kb.astype(bool), 1),\n",
    "        (strong_enhancer_coverage_100kb.astype(bool), 2)\n",
    "    ]\n",
    "    promoter_enhancer_cluster_ids = query_by_features(h5, query, verbose=True, verify=True)\n",
    "    print(f'Found {promoter_enhancer_cluster_ids.size} clusters')"
   ]
  },
  {
   "cell_type": "code",
   "execution_count": 31,
   "metadata": {},
   "outputs": [
    {
     "name": "stdout",
     "output_type": "stream",
     "text": [
      "Found 3120858 bins (617 bins)\n"
     ]
    }
   ],
   "source": [
    "with h5py.File(cluster_h5_file, 'r') as h5:\n",
    "    promoter_enhancer_cluster_bins = clusters_to_bins(h5, promoter_enhancer_cluster_ids)\n",
    "    unique_promoter_enhancer_cluster_bins = np.unique(promoter_enhancer_cluster_bins[:, 1])\n",
    "    print(f'Found {promoter_enhancer_cluster_bins.shape[0]} bins ({unique_promoter_enhancer_cluster_bins.size} bins)')"
   ]
  },
  {
   "cell_type": "code",
   "execution_count": 42,
   "metadata": {},
   "outputs": [
    {
     "data": {
      "image/png": "[encoded data removed]",
      "text/plain": [
       "<Figure size 864x432 with 2 Axes>"
      ]
     },
     "metadata": {
      "needs_background": "light"
     },
     "output_type": "display_data"
    }
   ],
   "source": [
    "with h5py.File(cluster_h5_file, 'r') as h5:\n",
    "    plot_cluster_feature_distribution(h5, promoter_enhancer_cluster_bins, all_features, figsize=(12,6))"
   ]
  },
  {
   "cell_type": "code",
   "execution_count": null,
   "metadata": {},
   "outputs": [],
   "source": []
  }
 ],
 "metadata": {
  "kernelspec": {
   "display_name": "Python 3",
   "language": "python",
   "name": "python3"
  },
  "language_info": {
   "codemirror_mode": {
    "name": "ipython",
    "version": 3
   },
   "file_extension": ".py",
   "mimetype": "text/x-python",
   "name": "python",
   "nbconvert_exporter": "python",
   "pygments_lexer": "ipython3",
   "version": "3.7.6"
  }
 },
 "nbformat": 4,
 "nbformat_minor": 4
}
