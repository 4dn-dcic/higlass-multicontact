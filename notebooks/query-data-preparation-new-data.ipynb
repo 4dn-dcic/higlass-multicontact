{
 "cells": [
  {
   "cell_type": "markdown",
   "metadata": {},
   "source": [
    "# Data Preparation for Feature-Based Cluster Queries"
   ]
  },
  {
   "cell_type": "code",
   "execution_count": 3,
   "metadata": {},
   "outputs": [],
   "source": [
    "%load_ext autoreload\n",
    "%autoreload 2\n",
    "%matplotlib inline\n",
    "\n",
    "import os\n",
    "import sys\n",
    "\n",
    "module_path = os.path.abspath(os.path.join('..'))\n",
    "if module_path not in sys.path:\n",
    "    sys.path.append(module_path)"
   ]
  },
  {
   "cell_type": "code",
   "execution_count": 5,
   "metadata": {},
   "outputs": [],
   "source": [
    "chrom = 'chr7'\n",
    "bin_size = 100000\n",
    "\n",
    "chrom_sizes_file = '../data/hg19/hg19.chrom.sizes'\n",
    "\n",
    "chromhmm_5kb_bed_file = '../data/carlo/HG19_chromhmm_5.0Kb_allchr.bed.gz'\n",
    "\n",
    "ffr_motif_bed_file = '../data/carlo/FFR_constels_0607_50k-1M.BED'\n",
    "frf_motif_bed_file = '../data/carlo/FRF_constels_0607_50k-1M.BED'\n",
    "frr_motif_bed_file = '../data/carlo/FRR_constels_0607_50k-1M.BED'\n",
    "rfr_motif_bed_file = '../data/carlo/RFR_constels_0607_50k-1M.BED'"
   ]
  },
  {
   "cell_type": "code",
   "execution_count": 4,
   "metadata": {},
   "outputs": [],
   "source": [
    "from hgmc.utils import get_chrom_sizes\n",
    "\n",
    "chrom_size = get_chrom_sizes(chrom_sizes_file).get(chrom)\n",
    "num_bins = math.ceil(chrom_size / bin_size)"
   ]
  },
  {
   "cell_type": "markdown",
   "metadata": {},
   "source": [
    "# Convert Data"
   ]
  },
  {
   "cell_type": "markdown",
   "metadata": {},
   "source": [
    "### Convert BED to SQL"
   ]
  },
  {
   "cell_type": "code",
   "execution_count": 6,
   "metadata": {},
   "outputs": [],
   "source": [
    "from hgmc.bed import bed_to_sql\n",
    "    \n",
    "bed_to_sql(chromhmm_5kb_bed_file, chrom_sizes_file)"
   ]
  },
  {
   "cell_type": "code",
   "execution_count": 6,
   "metadata": {},
   "outputs": [
    {
     "ename": "ValueError",
     "evalue": "Either provide a BED4 file or provide `feature_name`",
     "output_type": "error",
     "traceback": [
      "\u001b[0;31m---------------------------------------------------------------------------\u001b[0m",
      "\u001b[0;31mValueError\u001b[0m                                Traceback (most recent call last)",
      "\u001b[0;32m<ipython-input-6-ae22860dde46>\u001b[0m in \u001b[0;36m<module>\u001b[0;34m\u001b[0m\n\u001b[1;32m      1\u001b[0m \u001b[0;32mfrom\u001b[0m \u001b[0mhgmc\u001b[0m\u001b[0;34m.\u001b[0m\u001b[0mbed\u001b[0m \u001b[0;32mimport\u001b[0m \u001b[0mbed_to_sql\u001b[0m\u001b[0;34m\u001b[0m\u001b[0;34m\u001b[0m\u001b[0m\n\u001b[1;32m      2\u001b[0m \u001b[0;34m\u001b[0m\u001b[0m\n\u001b[0;32m----> 3\u001b[0;31m \u001b[0mbed_to_sql\u001b[0m\u001b[0;34m(\u001b[0m\u001b[0mffr_motif_bed_file\u001b[0m\u001b[0;34m,\u001b[0m \u001b[0mchrom_sizes_file\u001b[0m\u001b[0;34m)\u001b[0m\u001b[0;34m\u001b[0m\u001b[0;34m\u001b[0m\u001b[0m\n\u001b[0m\u001b[1;32m      4\u001b[0m \u001b[0mbed_to_sql\u001b[0m\u001b[0;34m(\u001b[0m\u001b[0mfrf_motif_bed_file\u001b[0m\u001b[0;34m,\u001b[0m \u001b[0mchrom_sizes_file\u001b[0m\u001b[0;34m)\u001b[0m\u001b[0;34m\u001b[0m\u001b[0;34m\u001b[0m\u001b[0m\n\u001b[1;32m      5\u001b[0m \u001b[0mbed_to_sql\u001b[0m\u001b[0;34m(\u001b[0m\u001b[0mfrr_motif_bed_file\u001b[0m\u001b[0;34m,\u001b[0m \u001b[0mchrom_sizes_file\u001b[0m\u001b[0;34m)\u001b[0m\u001b[0;34m\u001b[0m\u001b[0;34m\u001b[0m\u001b[0m\n",
      "\u001b[0;32m~/Code/higlass/higlass-multicontact/hgmc/bed.py\u001b[0m in \u001b[0;36mbed_to_sql\u001b[0;34m(bed_filepath, chrom_sizes_filepath, feature_name)\u001b[0m\n\u001b[1;32m     22\u001b[0m         \u001b[0;32mif\u001b[0m \u001b[0mnum_columns\u001b[0m \u001b[0;34m<\u001b[0m \u001b[0;36m4\u001b[0m \u001b[0;32mand\u001b[0m \u001b[0mfeature_name\u001b[0m \u001b[0;32mis\u001b[0m \u001b[0;32mNone\u001b[0m\u001b[0;34m:\u001b[0m\u001b[0;34m\u001b[0m\u001b[0;34m\u001b[0m\u001b[0m\n\u001b[1;32m     23\u001b[0m             raise ValueError(\n\u001b[0;32m---> 24\u001b[0;31m                 \u001b[0;34m'Either provide a BED4 file or provide `feature_name`'\u001b[0m\u001b[0;34m\u001b[0m\u001b[0;34m\u001b[0m\u001b[0m\n\u001b[0m\u001b[1;32m     25\u001b[0m             )\n\u001b[1;32m     26\u001b[0m \u001b[0;34m\u001b[0m\u001b[0m\n",
      "\u001b[0;31mValueError\u001b[0m: Either provide a BED4 file or provide `feature_name`"
     ]
    }
   ],
   "source": [
    "from hgmc.bed import bed_to_sql\n",
    "\n",
    "bed_to_sql(ffr_motif_bed_file, chrom_sizes_file)\n",
    "bed_to_sql(frf_motif_bed_file, chrom_sizes_file)\n",
    "bed_to_sql(frr_motif_bed_file, chrom_sizes_file)\n",
    "bed_to_sql(rfr_motif_bed_file, chrom_sizes_file)"
   ]
  },
  {
   "cell_type": "code",
   "execution_count": 18,
   "metadata": {},
   "outputs": [],
   "source": [
    "columns = [\n",
    "    'chrom',\n",
    "    'start',\n",
    "    'end',\n",
    "    'score',\n",
    "    'unknown1',\n",
    "    'strand',\n",
    "    'thickStart',\n",
    "    'thickEnd',\n",
    "    'itemRgb',\n",
    "    'unknown4',\n",
    "    'unknown5',\n",
    "    'unknown6'\n",
    "]"
   ]
  },
  {
   "cell_type": "code",
   "execution_count": 21,
   "metadata": {},
   "outputs": [],
   "source": [
    "import pandas as pd\n",
    "\n",
    "ffr = pd.read_table(ffr_motif_bed_file, sep=' ', header=None)\n",
    "ffr.columns = columns\n",
    "ffr['name'] = 'ffr'\n",
    "frf = pd.read_table(frf_motif_bed_file, sep=' ', header=None)\n",
    "frf.columns = columns\n",
    "frf['name'] = 'frf'\n",
    "frr = pd.read_table(frr_motif_bed_file, sep=' ', header=None)\n",
    "frr.columns = columns\n",
    "frr['name'] = 'frr'\n",
    "rfr = pd.read_table(rfr_motif_bed_file, sep=' ', header=None)\n",
    "rfr.columns = columns\n",
    "rfr['name'] = 'rfr'"
   ]
  },
  {
   "cell_type": "code",
   "execution_count": 22,
   "metadata": {},
   "outputs": [],
   "source": [
    "combined_motifs = pd.concat([\n",
    "    ffr[['chrom', 'start', 'end', 'name']],\n",
    "    frf[['chrom', 'start', 'end', 'name']],\n",
    "    frr[['chrom', 'start', 'end', 'name']],\n",
    "    rfr[['chrom', 'start', 'end', 'name']]\n",
    "], ignore_index=True)"
   ]
  },
  {
   "cell_type": "code",
   "execution_count": 27,
   "metadata": {},
   "outputs": [],
   "source": [
    "all_motifs_bed_file = '../data/carlo/all_constels_0607_50k-1M.bed'\n",
    "combined_motifs.to_csv(all_motifs_bed_file, sep='\\t', index=False, header=False)"
   ]
  },
  {
   "cell_type": "code",
   "execution_count": 28,
   "metadata": {},
   "outputs": [],
   "source": [
    "bed_to_sql(all_motifs_bed_file, chrom_sizes_file)"
   ]
  },
  {
   "cell_type": "markdown",
   "metadata": {},
   "source": [
    "---"
   ]
  },
  {
   "cell_type": "code",
   "execution_count": 30,
   "metadata": {},
   "outputs": [
    {
     "data": {
      "text/html": [
       "<div>\n",
       "<style scoped>\n",
       "    .dataframe tbody tr th:only-of-type {\n",
       "        vertical-align: middle;\n",
       "    }\n",
       "\n",
       "    .dataframe tbody tr th {\n",
       "        vertical-align: top;\n",
       "    }\n",
       "\n",
       "    .dataframe thead th {\n",
       "        text-align: right;\n",
       "    }\n",
       "</style>\n",
       "<table border=\"1\" class=\"dataframe\">\n",
       "  <thead>\n",
       "    <tr style=\"text-align: right;\">\n",
       "      <th></th>\n",
       "      <th>0</th>\n",
       "      <th>1</th>\n",
       "      <th>2</th>\n",
       "      <th>3</th>\n",
       "    </tr>\n",
       "  </thead>\n",
       "  <tbody>\n",
       "    <tr>\n",
       "      <td>0</td>\n",
       "      <td>chr1</td>\n",
       "      <td>0</td>\n",
       "      <td>4999</td>\n",
       "      <td>-</td>\n",
       "    </tr>\n",
       "    <tr>\n",
       "      <td>1</td>\n",
       "      <td>chr1</td>\n",
       "      <td>5000</td>\n",
       "      <td>9999</td>\n",
       "      <td>-</td>\n",
       "    </tr>\n",
       "    <tr>\n",
       "      <td>2</td>\n",
       "      <td>chr1</td>\n",
       "      <td>10000</td>\n",
       "      <td>14999</td>\n",
       "      <td>15_Repetitive/CNV+13_Heterochrom/lo+8_Insulato...</td>\n",
       "    </tr>\n",
       "    <tr>\n",
       "      <td>3</td>\n",
       "      <td>chr1</td>\n",
       "      <td>15000</td>\n",
       "      <td>19999</td>\n",
       "      <td>10_Txn_Elongation</td>\n",
       "    </tr>\n",
       "    <tr>\n",
       "      <td>4</td>\n",
       "      <td>chr1</td>\n",
       "      <td>20000</td>\n",
       "      <td>24999</td>\n",
       "      <td>10_Txn_Elongation+11_Weak_Txn+9_Txn_Transition...</td>\n",
       "    </tr>\n",
       "  </tbody>\n",
       "</table>\n",
       "</div>"
      ],
      "text/plain": [
       "      0      1      2                                                  3\n",
       "0  chr1      0   4999                                                  -\n",
       "1  chr1   5000   9999                                                  -\n",
       "2  chr1  10000  14999  15_Repetitive/CNV+13_Heterochrom/lo+8_Insulato...\n",
       "3  chr1  15000  19999                                  10_Txn_Elongation\n",
       "4  chr1  20000  24999  10_Txn_Elongation+11_Weak_Txn+9_Txn_Transition..."
      ]
     },
     "execution_count": 30,
     "metadata": {},
     "output_type": "execute_result"
    }
   ],
   "source": [
    "chromhmm_5kb = pd.read_table(chromhmm_5kb_bed_file, header=None)\n",
    "chromhmm_5kb.head()"
   ]
  },
  {
   "cell_type": "code",
   "execution_count": null,
   "metadata": {},
   "outputs": [],
   "source": []
  }
 ],
 "metadata": {
  "kernelspec": {
   "display_name": "Python 3",
   "language": "python",
   "name": "python3"
  },
  "language_info": {
   "codemirror_mode": {
    "name": "ipython",
    "version": 3
   },
   "file_extension": ".py",
   "mimetype": "text/x-python",
   "name": "python",
   "nbconvert_exporter": "python",
   "pygments_lexer": "ipython3",
   "version": "3.7.6"
  }
 },
 "nbformat": 4,
 "nbformat_minor": 4
}
