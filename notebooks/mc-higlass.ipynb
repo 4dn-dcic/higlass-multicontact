{
 "cells": [
  {
   "cell_type": "markdown",
   "metadata": {},
   "source": [
    "# Multicontact Data in HiGlass"
   ]
  },
  {
   "cell_type": "code",
   "execution_count": 1,
   "metadata": {},
   "outputs": [],
   "source": [
    "%load_ext autoreload\n",
    "%autoreload 2\n",
    "\n",
    "import os\n",
    "import sys\n",
    "\n",
    "module_path = os.path.abspath(os.path.join('..'))\n",
    "if module_path not in sys.path:\n",
    "    sys.path.append(module_path)"
   ]
  },
  {
   "cell_type": "markdown",
   "metadata": {},
   "source": [
    "### Download Test Data"
   ]
  },
  {
   "cell_type": "code",
   "execution_count": 2,
   "metadata": {},
   "outputs": [
    {
     "name": "stdout",
     "output_type": "stream",
     "text": [
      "File already exist. To overwrite pass `overwrite=True`\n",
      "File already exist. To overwrite pass `overwrite=True`\n"
     ]
    }
   ],
   "source": [
    "from utils import download_file\n",
    "\n",
    "filepath_100k = download_file(\n",
    "    'https://4dn-dcic-public.s3.amazonaws.com/multi_contact_files/100k_test3.hdf5',\n",
    "    '100k_test3.hdf5',\n",
    "    base='..'\n",
    ")\n",
    "\n",
    "filepath_10k = download_file(\n",
    "    'https://4dn-dcic-public.s3.amazonaws.com/multi_contact_files/10k_test3.h5',\n",
    "    '10k_test3.h5',\n",
    "    base='..'\n",
    ")"
   ]
  },
  {
   "cell_type": "markdown",
   "metadata": {},
   "source": [
    "### Tileset Implementation"
   ]
  },
  {
   "cell_type": "code",
   "execution_count": 3,
   "metadata": {},
   "outputs": [],
   "source": [
    "import h5py\n",
    "import higlass as hg\n",
    "import math\n",
    "import numpy as np\n",
    "import pandas as pd\n",
    "\n",
    "from clodius.tiles.format import format_dense_tile\n",
    "\n",
    "def mc_1d(filepath, anchors=[], **kwargs):\n",
    "    \"\"\"\n",
    "    Tileset for multicontact 1D data\n",
    "    \"\"\"\n",
    "    \n",
    "    tile_size = 1024\n",
    "    \n",
    "    def filter_data(filepath, anchors=[]):\n",
    "        with h5py.File(filepath, 'r') as f:\n",
    "            data = pd.DataFrame({\n",
    "                'bin': f['clusters']['bin'],\n",
    "                'cluster': f['clusters']['cluster_name']\n",
    "            })\n",
    "            \n",
    "            min_pos = int(data['bin'].values.min())\n",
    "            max_pos = int(data['bin'].values.max())\n",
    "        \n",
    "        counts_by_bin = np.zeros(max_pos - min_pos + 1)\n",
    "\n",
    "        max_cluster_name = data['cluster'].max() + 1\n",
    "        cluster_idx = np.zeros(max_cluster_name, dtype='bool')\n",
    "\n",
    "        for anchor in anchors:\n",
    "            clusters = data['cluster'][data['bin'] == anchor]\n",
    "            cluster_idx[clusters] = True\n",
    "            data = data.iloc[cluster_idx[data['cluster'].values]]\n",
    "            cluster_idx[clusters] = False\n",
    "\n",
    "        counts = data.groupby('bin').count()\n",
    "        counts_by_bin[counts.index.values] = counts['cluster'].values\n",
    "\n",
    "        return counts_by_bin, min_pos, max_pos\n",
    "    \n",
    "    data, min_pos, max_pos = filter_data(filepath, anchors)\n",
    "    \n",
    "    data_size = data.size\n",
    "    not_nan_data = ~np.isnan(data)\n",
    "    \n",
    "    max_zoom = math.ceil(math.log(max_pos / tile_size) / math.log(2))\n",
    "    max_zoom = 0 if max_zoom < 0 else max_zoom\n",
    "\n",
    "    tsinfo = {\n",
    "        'tile_size': tile_size,\n",
    "        'bins_per_dimension': tile_size,\n",
    "        'min_pos': [min_pos],\n",
    "        'max_pos': [max_pos],\n",
    "        'max_zoom': max_zoom,\n",
    "        'max_width': 2 ** max_zoom * 1024,\n",
    "    }\n",
    "\n",
    "    def generate_tile(z, x):\n",
    "        '''\n",
    "        Return tiles at the given positions.\n",
    "        Parameters\n",
    "        -----------\n",
    "        z: int\n",
    "            The zoom level (0 corresponds to most zoomed out)\n",
    "        x: int\n",
    "            The x tile position\n",
    "        '''\n",
    "        \n",
    "        tile_width = 2 ** (max_zoom - z) * tile_size\n",
    "\n",
    "        x_start = x * tile_width\n",
    "        x_end = min(max_pos, x_start + tile_width)\n",
    "        \n",
    "        tile_data = data[x_start:x_end]\n",
    "        tile_data\n",
    "\n",
    "        num_to_sum = 2 ** (max_zoom - z)\n",
    "\n",
    "        # add some data so that the data can be divided into squares\n",
    "        divisible_x_width = num_to_sum * math.ceil(tile_data.shape[0] / num_to_sum)\n",
    "        divisible_x_pad = divisible_x_width - tile_data.shape[0]\n",
    "\n",
    "        padded_data = np.pad(\n",
    "            tile_data, ((0, divisible_x_pad),), 'constant', constant_values=(np.nan,)\n",
    "        )\n",
    "\n",
    "        out_data = np.nansum(padded_data.reshape((-1, num_to_sum)), axis=1)\n",
    "        not_nan_out_data = not_nan_data[x_start:x_end]\n",
    "\n",
    "        # we want to calculate the means of the data points\n",
    "        na = np.pad(\n",
    "            not_nan_out_data,\n",
    "            ((0, divisible_x_pad)),\n",
    "            'constant',\n",
    "            constant_values=(np.nan,)\n",
    "        )\n",
    "        norm_out_data = np.nansum(na.reshape((-1, num_to_sum)), axis=1)\n",
    "        out_data = out_data / (norm_out_data + 1)\n",
    "\n",
    "        # determine how much to pad the array\n",
    "        x_pad = tile_size - out_data.shape[0]\n",
    "\n",
    "        return np.pad(\n",
    "            out_data, ((0, x_pad)), 'constant', constant_values=(np.nan, )\n",
    "        )\n",
    "    \n",
    "    def tileset_info():\n",
    "        return tsinfo\n",
    "    \n",
    "    def tiles(tile_ids):\n",
    "        tiles = []\n",
    "        \n",
    "        for tile_id in tile_ids:\n",
    "            # decompose the tile zoom and location\n",
    "            _, z, x = tile_id.split('.')\n",
    "            \n",
    "            # generate the tile\n",
    "            data = generate_tile(int(z), int(x))\n",
    "            \n",
    "            # format the tile response\n",
    "            tiles.append((tile_id, format_dense_tile(data)))\n",
    "    \n",
    "        return tiles\n",
    "    \n",
    "\n",
    "    return hg.Tileset(\n",
    "        tileset_info=tileset_info,\n",
    "        tiles=tiles,\n",
    "        **kwargs\n",
    "    )"
   ]
  },
  {
   "cell_type": "markdown",
   "metadata": {},
   "source": [
    "### Code for enabling selections in HiGlass"
   ]
  },
  {
   "cell_type": "code",
   "execution_count": 4,
   "metadata": {},
   "outputs": [],
   "source": [
    "import ipywidgets as widgets\n",
    "\n",
    "def enable_selection(widget):\n",
    "    select_mode = widgets.ToggleButton(value=False, description='Select Mode')\n",
    "    x_from = widgets.IntText(value=None, description='From:')\n",
    "    x_to = widgets.IntText(value=None, description='To:')\n",
    "\n",
    "    def handle_selection(event, widget):\n",
    "        try:\n",
    "            # `event['data']` is the event data\n",
    "            # `[0]` is the first argument, which is typically a dict\n",
    "            x_from.value = event['data'][0]['dataRange'][0][0]\n",
    "            x_to.value = event['data'][0]['dataRange'][0][1]\n",
    "        except:\n",
    "            print('Oh no...')\n",
    "\n",
    "    widget.on('selection', handle_selection)\n",
    "    widgets.jslink((widget, 'select_mode'), (select_mode, 'value'))\n",
    "    \n",
    "    return select_mode, x_from, x_to"
   ]
  },
  {
   "cell_type": "markdown",
   "metadata": {},
   "source": [
    "### Global Track Config"
   ]
  },
  {
   "cell_type": "code",
   "execution_count": 5,
   "metadata": {},
   "outputs": [],
   "source": [
    "track_config = {\n",
    "    'track_type': 'horizontal-line',\n",
    "    'position': 'top',\n",
    "    'height': 128,\n",
    "    'options': {\n",
    "        'colorRange': ['#ffbb33', '#e5001c', 'black'],\n",
    "        'labelColor': 'red',\n",
    "        'backgroundColor': 'white',\n",
    "    },\n",
    "}\n",
    "axis = hg.Track('top-axis')"
   ]
  },
  {
   "cell_type": "markdown",
   "metadata": {},
   "source": [
    "---\n",
    "\n",
    "## 0 Anchors (Coverage)"
   ]
  },
  {
   "cell_type": "code",
   "execution_count": 6,
   "metadata": {},
   "outputs": [
    {
     "ename": "AttributeError",
     "evalue": "'HiGlassDisplay' object has no attribute 'on'",
     "output_type": "error",
     "traceback": [
      "\u001b[0;31m---------------------------------------------------------------------------\u001b[0m",
      "\u001b[0;31mAttributeError\u001b[0m                            Traceback (most recent call last)",
      "\u001b[0;32m<ipython-input-6-cded8180b7aa>\u001b[0m in \u001b[0;36m<module>\u001b[0;34m\u001b[0m\n\u001b[1;32m      5\u001b[0m \u001b[0;34m\u001b[0m\u001b[0m\n\u001b[1;32m      6\u001b[0m \u001b[0mwidget_0a\u001b[0m\u001b[0;34m,\u001b[0m \u001b[0m_\u001b[0m\u001b[0;34m,\u001b[0m \u001b[0m_\u001b[0m \u001b[0;34m=\u001b[0m \u001b[0mhg\u001b[0m\u001b[0;34m.\u001b[0m\u001b[0mdisplay\u001b[0m\u001b[0;34m(\u001b[0m\u001b[0;34m[\u001b[0m\u001b[0mhg\u001b[0m\u001b[0;34m.\u001b[0m\u001b[0mView\u001b[0m\u001b[0;34m(\u001b[0m\u001b[0;34m[\u001b[0m\u001b[0maxis\u001b[0m\u001b[0;34m,\u001b[0m \u001b[0mhg\u001b[0m\u001b[0;34m.\u001b[0m\u001b[0mTrack\u001b[0m\u001b[0;34m(\u001b[0m\u001b[0mtileset\u001b[0m\u001b[0;34m=\u001b[0m\u001b[0mts_100k_0a\u001b[0m\u001b[0;34m,\u001b[0m \u001b[0;34m**\u001b[0m\u001b[0mtrack_config\u001b[0m\u001b[0;34m)\u001b[0m\u001b[0;34m]\u001b[0m\u001b[0;34m)\u001b[0m\u001b[0;34m]\u001b[0m\u001b[0;34m)\u001b[0m\u001b[0;34m\u001b[0m\u001b[0;34m\u001b[0m\u001b[0m\n\u001b[0;32m----> 7\u001b[0;31m \u001b[0mselect_mode_0a\u001b[0m\u001b[0;34m,\u001b[0m \u001b[0mx_from_0a\u001b[0m\u001b[0;34m,\u001b[0m \u001b[0mx_to_0a\u001b[0m \u001b[0;34m=\u001b[0m \u001b[0menable_selection\u001b[0m\u001b[0;34m(\u001b[0m\u001b[0mwidget_0a\u001b[0m\u001b[0;34m)\u001b[0m\u001b[0;34m\u001b[0m\u001b[0;34m\u001b[0m\u001b[0m\n\u001b[0m\u001b[1;32m      8\u001b[0m \u001b[0;34m\u001b[0m\u001b[0m\n\u001b[1;32m      9\u001b[0m \u001b[0mdisplay\u001b[0m\u001b[0;34m(\u001b[0m\u001b[0mselect_mode_0a\u001b[0m\u001b[0;34m,\u001b[0m \u001b[0mwidget_0a\u001b[0m\u001b[0;34m,\u001b[0m \u001b[0mx_from_0a\u001b[0m\u001b[0;34m,\u001b[0m \u001b[0mx_to_0a\u001b[0m\u001b[0;34m)\u001b[0m\u001b[0;34m\u001b[0m\u001b[0;34m\u001b[0m\u001b[0m\n",
      "\u001b[0;32m<ipython-input-4-a0cb46c53bc4>\u001b[0m in \u001b[0;36menable_selection\u001b[0;34m(widget)\u001b[0m\n\u001b[1;32m     15\u001b[0m             \u001b[0mprint\u001b[0m\u001b[0;34m(\u001b[0m\u001b[0;34m'Oh no...'\u001b[0m\u001b[0;34m)\u001b[0m\u001b[0;34m\u001b[0m\u001b[0;34m\u001b[0m\u001b[0m\n\u001b[1;32m     16\u001b[0m \u001b[0;34m\u001b[0m\u001b[0m\n\u001b[0;32m---> 17\u001b[0;31m     \u001b[0mwidget\u001b[0m\u001b[0;34m.\u001b[0m\u001b[0mon\u001b[0m\u001b[0;34m(\u001b[0m\u001b[0;34m'selection'\u001b[0m\u001b[0;34m,\u001b[0m \u001b[0mhandle_selection\u001b[0m\u001b[0;34m)\u001b[0m\u001b[0;34m\u001b[0m\u001b[0;34m\u001b[0m\u001b[0m\n\u001b[0m\u001b[1;32m     18\u001b[0m     \u001b[0mwidgets\u001b[0m\u001b[0;34m.\u001b[0m\u001b[0mjslink\u001b[0m\u001b[0;34m(\u001b[0m\u001b[0;34m(\u001b[0m\u001b[0mwidget\u001b[0m\u001b[0;34m,\u001b[0m \u001b[0;34m'select_mode'\u001b[0m\u001b[0;34m)\u001b[0m\u001b[0;34m,\u001b[0m \u001b[0;34m(\u001b[0m\u001b[0mselect_mode\u001b[0m\u001b[0;34m,\u001b[0m \u001b[0;34m'value'\u001b[0m\u001b[0;34m)\u001b[0m\u001b[0;34m)\u001b[0m\u001b[0;34m\u001b[0m\u001b[0;34m\u001b[0m\u001b[0m\n\u001b[1;32m     19\u001b[0m \u001b[0;34m\u001b[0m\u001b[0m\n",
      "\u001b[0;31mAttributeError\u001b[0m: 'HiGlassDisplay' object has no attribute 'on'"
     ]
    }
   ],
   "source": [
    "from IPython.display import display\n",
    "\n",
    "# ts_100k_3a = mc_1d(filepath_100k, anchors=[10885, 10892, 10814], name='100k Test Data')\n",
    "ts_100k_0a = mc_1d(filepath_100k, name='100k Test Data: 0 Anchors')\n",
    "\n",
    "widget_0a, _, _ = hg.display([hg.View([axis, hg.Track(tileset=ts_100k_0a, **track_config)])])\n",
    "select_mode_0a, x_from_0a, x_to_0a = enable_selection(widget_0a)\n",
    "\n",
    "display(select_mode_0a, widget_0a, x_from_0a, x_to_0a)"
   ]
  },
  {
   "cell_type": "code",
   "execution_count": 7,
   "metadata": {},
   "outputs": [
    {
     "data": {
      "application/vnd.jupyter.widget-view+json": {
       "model_id": "891caf582d0f4dcb854332b1f4d9f608",
       "version_major": 2,
       "version_minor": 0
      },
      "text/plain": [
       "HiGlassDisplay(viewconf={'editable': True, 'views': [{'uid': 'WUyagqQeTLmWrRY1f6D6gQ', 'tracks': {'top': [{'ty…"
      ]
     },
     "metadata": {},
     "output_type": "display_data"
    }
   ],
   "source": [
    "display(widget_0a)"
   ]
  },
  {
   "cell_type": "markdown",
   "metadata": {},
   "source": [
    "### 1. Anchor"
   ]
  },
  {
   "cell_type": "code",
   "execution_count": 65,
   "metadata": {},
   "outputs": [
    {
     "name": "stdout",
     "output_type": "stream",
     "text": [
      "Anchor at 17343\n"
     ]
    },
    {
     "data": {
      "application/vnd.jupyter.widget-view+json": {
       "model_id": "1f951b088c694ca3bb1be4abff038c66",
       "version_major": 2,
       "version_minor": 0
      },
      "text/plain": [
       "ToggleButton(value=False, description='Select Mode')"
      ]
     },
     "metadata": {},
     "output_type": "display_data"
    },
    {
     "data": {
      "application/vnd.jupyter.widget-view+json": {
       "model_id": "acc454aab326414089da8756c670a7cc",
       "version_major": 2,
       "version_minor": 0
      },
      "text/plain": [
       "HiGlassDisplay(hg_options={'theme': 'light'}, viewconf={'editable': True, 'views': [{'uid': 'CLdjQYAgQOipBF3f9…"
      ]
     },
     "metadata": {},
     "output_type": "display_data"
    },
    {
     "data": {
      "application/vnd.jupyter.widget-view+json": {
       "model_id": "fdd2f5a89cb8400f8fc0e23e16100890",
       "version_major": 2,
       "version_minor": 0
      },
      "text/plain": [
       "IntText(value=0, description='From:')"
      ]
     },
     "metadata": {},
     "output_type": "display_data"
    },
    {
     "data": {
      "application/vnd.jupyter.widget-view+json": {
       "model_id": "331f9569165d435bb21f9fb15bb62091",
       "version_major": 2,
       "version_minor": 0
      },
      "text/plain": [
       "IntText(value=0, description='To:')"
      ]
     },
     "metadata": {},
     "output_type": "display_data"
    }
   ],
   "source": [
    "# For now just the midpoint\n",
    "anchor_1 = int(x_from_0a.value + ((x_to_0a.value - x_from_0a.value) / 2))\n",
    "print('Anchor at {}'.format(anchor_1))\n",
    "\n",
    "ts_100k_1a = mc_1d(filepath_100k, anchors=[anchor_1], name='100k Test Data: 1 Anchor')\n",
    "\n",
    "widget_1a, _, _ = hg.display([hg.View([axis, hg.Track(tileset=ts_100k_1a, **track_config)])])\n",
    "select_mode_1a, x_from_1a, x_to_1a = enable_selection(widget_1a)\n",
    "\n",
    "display(select_mode_1a, widget_1a, x_from_1a, x_to_1a)"
   ]
  },
  {
   "cell_type": "code",
   "execution_count": 67,
   "metadata": {},
   "outputs": [
    {
     "name": "stdout",
     "output_type": "stream",
     "text": [
      "Anchor at 17394\n"
     ]
    },
    {
     "data": {
      "application/vnd.jupyter.widget-view+json": {
       "model_id": "33e430777084498cac47163699056871",
       "version_major": 2,
       "version_minor": 0
      },
      "text/plain": [
       "ToggleButton(value=False, description='Select Mode')"
      ]
     },
     "metadata": {},
     "output_type": "display_data"
    },
    {
     "data": {
      "application/vnd.jupyter.widget-view+json": {
       "model_id": "b671392f8d40464688c320cf90716d61",
       "version_major": 2,
       "version_minor": 0
      },
      "text/plain": [
       "HiGlassDisplay(hg_options={'theme': 'light'}, viewconf={'editable': True, 'views': [{'uid': 'ZP68XyCaRSqm7Koz6…"
      ]
     },
     "metadata": {},
     "output_type": "display_data"
    },
    {
     "data": {
      "application/vnd.jupyter.widget-view+json": {
       "model_id": "8868cc8eda664812aefd95770f41d599",
       "version_major": 2,
       "version_minor": 0
      },
      "text/plain": [
       "IntText(value=0, description='From:')"
      ]
     },
     "metadata": {},
     "output_type": "display_data"
    },
    {
     "data": {
      "application/vnd.jupyter.widget-view+json": {
       "model_id": "0c5f27a7cce741a7b4b5868f2d65caba",
       "version_major": 2,
       "version_minor": 0
      },
      "text/plain": [
       "IntText(value=0, description='To:')"
      ]
     },
     "metadata": {},
     "output_type": "display_data"
    }
   ],
   "source": [
    "# For now just the midpoint\n",
    "anchor_2 = int(x_from_1a.value + ((x_to_1a.value - x_from_1a.value) / 2))\n",
    "print('Anchor at {}'.format(anchor_2))\n",
    "24\n",
    "ts_100k_2a = mc_1d(filepath_100k, anchors=[anchor_1, anchor_2], name='100k Test Data: 2 Anchor')\n",
    "\n",
    "widget_2a, _, _ = hg.display([hg.View([axis, hg.Track(tileset=ts_100k_2a, **track_config)])])\n",
    "select_mode_2a, x_from_2a, x_to_2a = enable_selection(widget_2a)\n",
    "\n",
    "display(select_mode_2a, widget_2a, x_from_2a, x_to_2a)"
   ]
  },
  {
   "cell_type": "code",
   "execution_count": null,
   "metadata": {},
   "outputs": [],
   "source": []
  }
 ],
 "metadata": {
  "kernelspec": {
   "display_name": "Python 3",
   "language": "python",
   "name": "python3"
  },
  "language_info": {
   "codemirror_mode": {
    "name": "ipython",
    "version": 3
   },
   "file_extension": ".py",
   "mimetype": "text/x-python",
   "name": "python",
   "nbconvert_exporter": "python",
   "pygments_lexer": "ipython3",
   "version": "3.7.3"
  }
 },
 "nbformat": 4,
 "nbformat_minor": 4
}
