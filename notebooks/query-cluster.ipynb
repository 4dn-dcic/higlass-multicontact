{
 "cells": [
  {
   "cell_type": "markdown",
   "metadata": {},
   "source": [
    "# TSV to HDF5"
   ]
  },
  {
   "cell_type": "code",
   "execution_count": 164,
   "metadata": {},
   "outputs": [
    {
     "name": "stdout",
     "output_type": "stream",
     "text": [
      "The autoreload extension is already loaded. To reload it, use:\n",
      "  %reload_ext autoreload\n"
     ]
    }
   ],
   "source": [
    "%load_ext autoreload\n",
    "%autoreload 2\n",
    "%matplotlib inline\n",
    "\n",
    "import os\n",
    "import sys\n",
    "\n",
    "module_path = os.path.abspath(os.path.join('..'))\n",
    "if module_path not in sys.path:\n",
    "    sys.path.append(module_path)"
   ]
  },
  {
   "cell_type": "code",
   "execution_count": 2,
   "metadata": {},
   "outputs": [],
   "source": [
    "import numpy as np\n",
    "import time\n",
    "\n",
    "from matplotlib import pyplot as plt\n",
    "\n",
    "from utils import rle_encode, unique_at_freq"
   ]
  },
  {
   "cell_type": "code",
   "execution_count": 175,
   "metadata": {},
   "outputs": [],
   "source": [
    "chrom =chrom_sizes_file 'chr7'\n",
    "bin_size = 100000\n",
    "\n",
    "cluster_tsv_file = '../data/hg19/gm12878_triplets_chr7_100kb_pooled.tsv.gz'\n",
    "cluster_h5_file = '../data/hg19/gm12878_triplets_chr7_100kb_pooled.h5'\n",
    "\n",
    " = '../data/hg19/hg19.chrom.sizes'\n",
    "\n",
    "tads_arrowhead_bed_file = '../data/hg19/Rao_RepH_GM12878_Arrowhead.sorted.bed'\n",
    "tads_arrowhead_sqlite_file = '../data/hg19/Rao_RepH_GM12878_Arrowhead.sorted.sqlite'\n",
    "\n",
    "chromhmm_bed_file = '../data/hg19/wgEncodeBroadHmmGm12878HMM.bed.gz'\n",
    "chromhmm_sqlite_file = '../data/hg19/wgEncodeBroadHmmGm12878HMM.sqlite'\n",
    "\n",
    "subcompartments_bed_file = '../data/hg19/GSE63525_GM12878_subcompartments.bed.gz'\n",
    "subcompartments_sqlite_file = '../data/hg19/GSE63525_GM12878_subcompartments.sqlite'\n",
    "\n",
    "loop_extents_bed_file = '../data/hg19/GSE63525_GM12878_replicate_HiCCUPS_loop_extent_list.bed.gz'\n",
    "loop_extents_sqlite_file = '../data/hg19/GSE63525_GM12878_replicate_HiCCUPS_loop_extent_list.sqlite'"
   ]
  },
  {
   "cell_type": "code",
   "execution_count": 333,
   "metadata": {},
   "outputs": [],
   "source": [
    "from hgmc.utils import get_chrom_sizes\n",
    "\n",
    "chrom_size = get_chrom_sizes(chrom_sizes_file).get(chrom)\n",
    "num_bins = math.ceil(chrom_size / bin_size)"
   ]
  },
  {
   "cell_type": "markdown",
   "metadata": {},
   "source": [
    "# Convert Data\n",
    "\n",
    "### Convert Cluster TSV to H5"
   ]
  },
  {
   "cell_type": "code",
   "execution_count": 273,
   "metadata": {},
   "outputs": [
    {
     "name": "stdout",
     "output_type": "stream",
     "text": [
      "File contains 39515493 clusters\n",
      "Took 12.63 minutes\n"
     ]
    }
   ],
   "source": [
    "from hgmc.clusters import tsv_to_h5\n",
    "\n",
    "tsv_to_h5(\n",
    "    cluster_tsv_file,\n",
    "    chrom_sizes_file,\n",
    "    chrom,\n",
    "    bin_size,\n",
    "    header=True,\n",
    "    timeit=True,\n",
    "    verbose=True\n",
    ")"
   ]
  },
  {
   "cell_type": "markdown",
   "metadata": {},
   "source": [
    "**Sanity Check:** The sum of the offsets should be the same as the number of bin entries"
   ]
  },
  {
   "cell_type": "code",
   "execution_count": 173,
   "metadata": {},
   "outputs": [],
   "source": [
    "with h5py.File(cluster_h5_file, 'r') as h5:\n",
    "    bin_offset = h5['bin_offset'][:]\n",
    "    assert h5['bin_to_cluster'].shape[0] == (bin_offset[1:] - bin_offset[:-1]).sum(), \\\n",
    "        \"The sum of the offsets should be the same as the number of bin entries!\""
   ]
  },
  {
   "cell_type": "markdown",
   "metadata": {},
   "source": [
    "### Convert BED to SQL"
   ]
  },
  {
   "cell_type": "code",
   "execution_count": 176,
   "metadata": {},
   "outputs": [],
   "source": [
    "from hgmc.bed import bed_to_sql\n",
    "    \n",
    "bed_to_sql(tads_arrowhead_bed_file, chrom_sizes_file, feature_name='tad')\n",
    "bed_to_sql(chromhmm_bed_file, chrom_sizes_file)\n",
    "bed_to_sql(subcompartments_bed_file, chrom_sizes_file)\n",
    "bed_to_sql(loop_extents_bed_file, chrom_sizes_file, feature_name='loop')"
   ]
  },
  {
   "cell_type": "markdown",
   "metadata": {},
   "source": [
    "# Basic Stats"
   ]
  },
  {
   "cell_type": "code",
   "execution_count": 335,
   "metadata": {},
   "outputs": [
    {
     "data": {
      "image/png": "[encoded data removed]",
      "text/plain": [
       "<Figure size 432x288 with 1 Axes>"
      ]
     },
     "metadata": {
      "needs_background": "light"
     },
     "output_type": "display_data"
    }
   ],
   "source": [
    "with h5py.File(cluster_h5_file, 'r') as h5:    \n",
    "    span = h5['cluster_props'][:, 1]\n",
    "    \n",
    "    bins = np.arange(0, bin_size * num_bins, bin_size)\n",
    "    counts = np.histogram(\n",
    "        h5['cluster_props'][:, 1],\n",
    "        bins=bins\n",
    "    )[0]\n",
    "    \n",
    "    plt.bar(np.arange(counts.size), counts)"
   ]
  },
  {
   "cell_type": "markdown",
   "metadata": {},
   "source": [
    "# Load Features"
   ]
  },
  {
   "cell_type": "code",
   "execution_count": 198,
   "metadata": {},
   "outputs": [
    {
     "data": {
      "text/plain": [
       "['1_Active_Promoter',\n",
       " '2_Weak_Promoter',\n",
       " '3_Poised_Promoter',\n",
       " '4_Strong_Enhancer',\n",
       " '5_Strong_Enhancer',\n",
       " '6_Weak_Enhancer',\n",
       " '7_Weak_Enhancer',\n",
       " '8_Insulator',\n",
       " '9_Txn_Transition',\n",
       " '10_Txn_Elongation',\n",
       " '11_Weak_Txn',\n",
       " '12_Repressed',\n",
       " '13_Heterochrom/lo',\n",
       " '14_Repetitive/CNV',\n",
       " '15_Repetitive/CNV']"
      ]
     },
     "execution_count": 198,
     "metadata": {},
     "output_type": "execute_result"
    }
   ],
   "source": [
    "from hgmc.bed import sql_features\n",
    "from utils import natural_sort\n",
    "\n",
    "chromhmm_features = natural_sort(sql_features(chromhmm_sqlite_file))\n",
    "chromhmm_features"
   ]
  },
  {
   "cell_type": "code",
   "execution_count": 201,
   "metadata": {},
   "outputs": [
    {
     "name": "stdout",
     "output_type": "stream",
     "text": [
      "Took 0.067 sec\n",
      "883 bins contain TADs with at most 3 TADs per bin\n",
      "Took 3.624 sec\n",
      "400 bins contain active promoters with at most 8 active promoters per bin\n",
      "Took 4.656 sec\n",
      "517 bins contain enhancers with at most 38 enhancers per bin\n",
      "Took 0.069 sec\n",
      "576 bins are A compartment\n",
      "Took 0.085 sec\n",
      "936 bins are B compartment\n",
      "Took 0.081 sec\n",
      "1107 bins contain loops with at most 7 loops per bin\n"
     ]
    }
   ],
   "source": [
    "from hgmc.bed import sql_coverage\n",
    "\n",
    "tad_coverage_100kb = sql_coverage(\n",
    "    tads_arrowhead_sqlite_file,\n",
    "    chrom=chrom,\n",
    "    bin_size=bin_size,\n",
    "    # At least 80% of the TAD needs to be in the bin to count\n",
    "    count_at_feat_cov=0.8,\n",
    "    rel_count_at_bin_cov=True,\n",
    "    timeit=True\n",
    ")\n",
    "print(f'{tad_coverage_100kb.astype(bool).sum()} bins contain TADs with at most {tad_coverage_100kb.max()} TADs per bin')\n",
    "\n",
    "active_promoter_coverage_100kb = sql_coverage(\n",
    "    chromhmm_sqlite_file,\n",
    "    chrom=chrom,\n",
    "    bin_size=bin_size,\n",
    "    features='1_Active_Promoter',\n",
    "    # The entire promoter needs to be in the bin to count\n",
    "    count_at_feat_cov=1.0,\n",
    "    rel_count_at_bin_cov=True,\n",
    "    timeit=True\n",
    ")\n",
    "print(f'{active_promoter_coverage_100kb.astype(bool).sum()} bins contain active promoters with at most {active_promoter_coverage_100kb.max()} active promoters per bin')\n",
    "\n",
    "strong_enhancer_coverage_100kb = sql_coverage(\n",
    "    chromhmm_sqlite_file,\n",
    "    chrom=chrom,\n",
    "    bin_size=bin_size,\n",
    "    features=['4_Strong_Enhancer', '5_Strong_Enhancer'],\n",
    "    # The entire enhancer needs to be in the bin to count\n",
    "    count_at_feat_cov=1.0,\n",
    "    rel_count_at_bin_cov=True,\n",
    "    timeit=True\n",
    ")\n",
    "print(f'{strong_enhancer_coverage_100kb.astype(bool).sum()} bins contain enhancers with at most {strong_enhancer_coverage_100kb.max()} enhancers per bin')\n",
    "\n",
    "a_compartments_coverage_100kb = sql_coverage(\n",
    "    subcompartments_sqlite_file,\n",
    "    chrom=chrom,\n",
    "    bin_size=bin_size,\n",
    "    features=['A1', 'A2'],\n",
    "    # At least 80% of the bin need to be an A compartment to count\n",
    "    count_at_bin_cov=0.8,\n",
    "    rel_count_at_bin_cov=True,\n",
    "    timeit=True\n",
    ")\n",
    "print(f'{a_compartments_coverage_100kb.astype(bool).sum()} bins are A compartment')\n",
    "\n",
    "b_compartments_coverage_100kb = sql_coverage(\n",
    "    subcompartments_sqlite_file,\n",
    "    chrom=chrom,\n",
    "    bin_size=bin_size,\n",
    "    features=['B1', 'B2', 'B3', 'B4'],\n",
    "    # At least 80% of the bin need to be an A compartment to count\n",
    "    count_at_bin_cov=0.8,\n",
    "    rel_count_at_bin_cov=True,\n",
    "    timeit=True\n",
    ")\n",
    "print(f'{b_compartments_coverage_100kb.astype(bool).sum()} bins are B compartment')\n",
    "\n",
    "loop_extent_coverage_100kb = sql_coverage(\n",
    "    loop_extents_sqlite_file,\n",
    "    chrom=chrom,\n",
    "    bin_size=bin_size,\n",
    "    # Only count if the entire loop extent is in the bin\n",
    "    count_at_feat_cov=1.0,\n",
    "    rel_count_at_bin_cov=True,\n",
    "    timeit=True\n",
    ")\n",
    "print(f'{loop_extent_coverage_100kb.astype(bool).sum()} bins contain loops with at most {loop_extent_coverage_100kb.max()} loops per bin')"
   ]
  },
  {
   "cell_type": "markdown",
   "metadata": {},
   "source": [
    "# Queries\n",
    "### Find all triplets that anchor in 3 TADs"
   ]
  },
  {
   "cell_type": "code",
   "execution_count": 319,
   "metadata": {},
   "outputs": [
    {
     "name": "stdout",
     "output_type": "stream",
     "text": [
      "There are 883 bins with TADs\n",
      "Verify results...\n",
      "Hooray! Found clusters conform to the query.\n",
      "Found 9052583 clusters\n"
     ]
    }
   ],
   "source": [
    "from hgmc.clusters import query_by_features, verify_queried_clusters\n",
    "\n",
    "print(f'There are {tad_coverage_100kb.astype(bool).sum()} bins with TADs')\n",
    "\n",
    "with h5py.File(cluster_h5_file, 'r') as h5:\n",
    "    query = [(tad_coverage_100kb.astype(bool), 3)]\n",
    "    tad_cluster_ids = query_by_features(h5, query, verbose=True, verify=True)\n",
    "    print(f'Found {tad_cluster_ids.size} clusters')"
   ]
  },
  {
   "cell_type": "code",
   "execution_count": 324,
   "metadata": {},
   "outputs": [
    {
     "name": "stdout",
     "output_type": "stream",
     "text": [
      "Verify results...\n",
      "Hooray! Found clusters conform to the query.\n",
      "Found 1040286 clusters\n"
     ]
    }
   ],
   "source": [
    "with h5py.File(cluster_h5_file, 'r') as h5:\n",
    "    query = [\n",
    "        (active_promoter_coverage_100kb.astype(bool), 1),\n",
    "        (strong_enhancer_coverage_100kb.astype(bool), 2)\n",
    "    ]\n",
    "    promoter_enhancer_cluster_ids = query_by_features(h5, query, verbose=True, verify=True)\n",
    "    print(f'Found {promoter_enhancer_cluster_ids.size} clusters')"
   ]
  },
  {
   "cell_type": "code",
   "execution_count": 310,
   "metadata": {},
   "outputs": [
    {
     "name": "stdout",
     "output_type": "stream",
     "text": [
      "Mask generation took 0.2 sec\n",
      "Cluster start/stop extraction took 0.8 sec\n",
      "Vrange calculation took 0.1 sec\n",
      "Cluster-to-bin extraction took 3.0 sec\n",
      "Bin extraction took 0.0 sec\n",
      "Total took 4.2 sec\n",
      "Found 617 bins\n"
     ]
    }
   ],
   "source": [
    "from hgmc.clusters import clusters_to_bins\n",
    "\n",
    "with h5py.File(cluster_h5_file, 'r') as h5:\n",
    "    promoter_enhancer_cluster_bins = clusters_to_bins(h5, promoter_enhancer_cluster_ids, timeit=True)\n",
    "    print(f'Found {promoter_enhancer_cluster_bins.size} bins')"
   ]
  },
  {
   "cell_type": "code",
   "execution_count": null,
   "metadata": {},
   "outputs": [],
   "source": []
  }
 ],
 "metadata": {
  "kernelspec": {
   "display_name": "Python 3",
   "language": "python",
   "name": "python3"
  },
  "language_info": {
   "codemirror_mode": {
    "name": "ipython",
    "version": 3
   },
   "file_extension": ".py",
   "mimetype": "text/x-python",
   "name": "python",
   "nbconvert_exporter": "python",
   "pygments_lexer": "ipython3",
   "version": "3.7.6"
  }
 },
 "nbformat": 4,
 "nbformat_minor": 4
}
