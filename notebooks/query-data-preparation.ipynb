{
 "cells": [
  {
   "cell_type": "markdown",
   "metadata": {},
   "source": [
    "# Data Preparation for Feature-Based Cluster Queries"
   ]
  },
  {
   "cell_type": "code",
   "execution_count": 2,
   "metadata": {},
   "outputs": [],
   "source": [
    "%load_ext autoreload\n",
    "%autoreload 2\n",
    "%matplotlib inline\n",
    "\n",
    "import os\n",
    "import sys\n",
    "\n",
    "module_path = os.path.abspath(os.path.join('..'))\n",
    "if module_path not in sys.path:\n",
    "    sys.path.append(module_path)"
   ]
  },
  {
   "cell_type": "code",
   "execution_count": 6,
   "metadata": {},
   "outputs": [],
   "source": [
    "import math\n",
    "import numpy as np\n",
    "\n",
    "from matplotlib import pyplot as plt"
   ]
  },
  {
   "cell_type": "code",
   "execution_count": 50,
   "metadata": {},
   "outputs": [],
   "source": [
    "chrom = 'chr7'\n",
    "bin_size = 100000\n",
    "\n",
    "cluster_tsv_file = '../data/hg19/gm12878_triplets_chr7_100kb_pooled.tsv.gz'\n",
    "cluster_h5_file = '../data/hg19/gm12878_triplets_chr7_100kb_pooled.h5'\n",
    "\n",
    "pairs_tsv_file = '../data/hg19/Rao2014-GM12878-MboI-allreps-filtered-chr7-read-pairs.100kb.tsv.gz'\n",
    "pairs_tsv_file_updated = '../data/hg19/Rao2014-GM12878-MboI-allreps-filtered-chr7-read-pairs.100kb.updated.tsv.gz'\n",
    "pairs_h5_file = '../data/hg19/Rao2014-GM12878-MboI-allreps-filtered-chr7-read-pairs.100kb.h5'\n",
    "\n",
    "chrom_sizes_file = '../data/hg19/hg19.chrom.sizes'\n",
    "\n",
    "tads_arrowhead_bed_file = '../data/hg19/Rao_RepH_GM12878_Arrowhead.sorted.bed'\n",
    "tads_arrowhead_sqlite_file = '../data/hg19/Rao_RepH_GM12878_Arrowhead.sorted.sqlite'\n",
    "\n",
    "chromhmm_bed_file = '../data/hg19/wgEncodeBroadHmmGm12878HMM.bed.gz'\n",
    "chromhmm_sqlite_file = '../data/hg19/wgEncodeBroadHmmGm12878HMM.sqlite'\n",
    "\n",
    "subcompartments_bed_file = '../data/hg19/GSE63525_GM12878_subcompartments.bed.gz'\n",
    "subcompartments_sqlite_file = '../data/hg19/GSE63525_GM12878_subcompartments.sqlite'\n",
    "\n",
    "loop_extents_bed_file = '../data/hg19/GSE63525_GM12878_replicate_HiCCUPS_loop_extent_list.bed.gz'\n",
    "loop_extents_sqlite_file = '../data/hg19/GSE63525_GM12878_replicate_HiCCUPS_loop_extent_list.sqlite'"
   ]
  },
  {
   "cell_type": "code",
   "execution_count": 8,
   "metadata": {},
   "outputs": [],
   "source": [
    "from hgmc.utils import get_chrom_sizes\n",
    "\n",
    "chrom_size = get_chrom_sizes(chrom_sizes_file).get(chrom)\n",
    "num_bins = math.ceil(chrom_size / bin_size)"
   ]
  },
  {
   "cell_type": "markdown",
   "metadata": {},
   "source": [
    "# Convert Data\n",
    "\n",
    "### Convert Cluster TSV to H5"
   ]
  },
  {
   "cell_type": "code",
   "execution_count": 273,
   "metadata": {},
   "outputs": [
    {
     "name": "stdout",
     "output_type": "stream",
     "text": [
      "File contains 39515493 clusters\n",
      "Took 12.63 minutes\n"
     ]
    }
   ],
   "source": [
    "from hgmc.clusters import tsv_to_h5\n",
    "\n",
    "tsv_to_h5(\n",
    "    cluster_tsv_file,\n",
    "    chrom_sizes_file,\n",
    "    chrom,\n",
    "    bin_size,\n",
    "    header=True,\n",
    "    timeit=True,\n",
    "    verbose=True\n",
    ")"
   ]
  },
  {
   "cell_type": "markdown",
   "metadata": {},
   "source": [
    "### Prepare pairwise data"
   ]
  },
  {
   "cell_type": "code",
   "execution_count": 59,
   "metadata": {},
   "outputs": [],
   "source": [
    "import pandas as pd\n",
    "\n",
    "pairs = pd.read_table(pairs_tsv_file, header=None)\n",
    "pairs.head()\n",
    "\n",
    "# Get the number of bins from chr1-chr6 as `cooler dump` outputs global bin IDs\n",
    "cumsum_until_chr7 = np.sum([x[1] for x in list(get_chrom_sizes(chrom_sizes_file).items())[:6]]).astype(int)\n",
    "offset_bins = np.ceil(cumsum_until_chr7 / bin_size).astype(int)\n",
    "\n",
    "pairs.columns = ['bin1', 'bin2', 'freq']\n",
    "pairs['bin1'] -= offset_bins\n",
    "pairs['bin2'] -= offset_bins\n",
    "pairs['chr1'] = '7'\n",
    "pairs['chr2'] = '7'\n",
    "\n",
    "diff = pairs['bin1'] != pairs['bin2']\n",
    "no_trans = (pairs['bin1'] < num_bins) & (pairs['bin2'] < num_bins)\n",
    "\n",
    "pairs = pairs[diff & no_trans]\n",
    "\n",
    "pairs['bin1'] *= bin_size\n",
    "pairs['bin2'] *= bin_size\n",
    "\n",
    "pairs.columns = ['pos1', 'pos2', 'freq', 'chr1', 'chr2']\n",
    "\n",
    "pairs = pairs[['chr1', 'pos1', 'chr2', 'pos2', 'freq']]\n",
    "\n",
    "pairs.to_csv(pairs_tsv_file_updated, sep='\\t', index=False, header=False)"
   ]
  },
  {
   "cell_type": "code",
   "execution_count": 62,
   "metadata": {},
   "outputs": [
    {
     "name": "stdout",
     "output_type": "stream",
     "text": [
      "['7', '300000', '7', '400000', '8153']\n",
      "['7', '300000', '7', '500000', '1276']\n"
     ]
    }
   ],
   "source": [
    "import gzip\n",
    "\n",
    "with gzip.open(pairs_tsv_file_updated, 'rt') as f:\n",
    "    line = f.readline().strip()\n",
    "    print(line.split('\\t'))\n",
    "    line = f.readline().strip()\n",
    "    print(line.split('\\t'))"
   ]
  },
  {
   "cell_type": "code",
   "execution_count": 63,
   "metadata": {},
   "outputs": [
    {
     "name": "stdout",
     "output_type": "stream",
     "text": [
      "File contains 1174907 clusters\n",
      "Took 0.28 minutes\n"
     ]
    }
   ],
   "source": [
    "from hgmc.clusters import tsv_to_h5\n",
    "\n",
    "tsv_to_h5(\n",
    "    pairs_tsv_file_updated,\n",
    "    chrom_sizes_file,\n",
    "    chrom,\n",
    "    bin_size,\n",
    "    cluster_size=2,\n",
    "    header=True,\n",
    "    timeit=True,\n",
    "    verbose=True\n",
    ")"
   ]
  },
  {
   "cell_type": "markdown",
   "metadata": {},
   "source": [
    "**Sanity Check:** The sum of the offsets should be the same as the number of bin entries"
   ]
  },
  {
   "cell_type": "code",
   "execution_count": 173,
   "metadata": {},
   "outputs": [],
   "source": [
    "with h5py.File(cluster_h5_file, 'r') as h5:\n",
    "    bin_offset = h5['bin_offset'][:]\n",
    "    assert h5['bin_to_cluster'].shape[0] == (bin_offset[1:] - bin_offset[:-1]).sum(), \\\n",
    "        \"The sum of the offsets should be the same as the number of bin entries!\""
   ]
  },
  {
   "cell_type": "markdown",
   "metadata": {},
   "source": [
    "### Convert BED to SQL"
   ]
  },
  {
   "cell_type": "code",
   "execution_count": 176,
   "metadata": {},
   "outputs": [],
   "source": [
    "from hgmc.bed import bed_to_sql\n",
    "    \n",
    "bed_to_sql(tads_arrowhead_bed_file, chrom_sizes_file, feature_name='tad')\n",
    "bed_to_sql(chromhmm_bed_file, chrom_sizes_file)\n",
    "bed_to_sql(subcompartments_bed_file, chrom_sizes_file)\n",
    "bed_to_sql(loop_extents_bed_file, chrom_sizes_file, feature_name='loop')"
   ]
  },
  {
   "cell_type": "markdown",
   "metadata": {},
   "source": [
    "# Basic Stats"
   ]
  },
  {
   "cell_type": "code",
   "execution_count": 335,
   "metadata": {},
   "outputs": [
    {
     "data": {
      "image/png": "[encoded data removed]",
      "text/plain": [
       "<Figure size 432x288 with 1 Axes>"
      ]
     },
     "metadata": {
      "needs_background": "light"
     },
     "output_type": "display_data"
    }
   ],
   "source": [
    "with h5py.File(cluster_h5_file, 'r') as h5:    \n",
    "    span = h5['cluster_props'][:, 1]\n",
    "    \n",
    "    bins = np.arange(0, bin_size * num_bins, bin_size)\n",
    "    counts = np.histogram(\n",
    "        h5['cluster_props'][:, 1],\n",
    "        bins=bins\n",
    "    )[0]\n",
    "    \n",
    "    plt.bar(np.arange(counts.size), counts)"
   ]
  },
  {
   "cell_type": "code",
   "execution_count": null,
   "metadata": {},
   "outputs": [],
   "source": []
  }
 ],
 "metadata": {
  "kernelspec": {
   "display_name": "Python 3",
   "language": "python",
   "name": "python3"
  },
  "language_info": {
   "codemirror_mode": {
    "name": "ipython",
    "version": 3
   },
   "file_extension": ".py",
   "mimetype": "text/x-python",
   "name": "python",
   "nbconvert_exporter": "python",
   "pygments_lexer": "ipython3",
   "version": "3.7.6"
  }
 },
 "nbformat": 4,
 "nbformat_minor": 4
}
