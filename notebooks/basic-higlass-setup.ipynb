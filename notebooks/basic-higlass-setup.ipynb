{
 "cells": [
  {
   "cell_type": "markdown",
   "metadata": {},
   "source": [
    "# Basic 2-way data flow\n",
    "\n",
    "This is just an example how to dynamically set and get properties from HiGlass"
   ]
  },
  {
   "cell_type": "code",
   "execution_count": 1,
   "metadata": {},
   "outputs": [],
   "source": [
    "import higlass as hg\n",
    "import ipywidgets as widgets\n",
    "from IPython.display import display"
   ]
  },
  {
   "cell_type": "code",
   "execution_count": 2,
   "metadata": {},
   "outputs": [],
   "source": [
    "viewconf = hg.ViewConf.from_link('http://higlass.io/app/?config=browserlike')\n",
    "widget = hg.viewer.HiGlassDisplay(viewconf=viewconf.to_dict())"
   ]
  },
  {
   "cell_type": "code",
   "execution_count": 3,
   "metadata": {},
   "outputs": [],
   "source": [
    "select_mode = widgets.ToggleButton(value=False, description='Select Mode')\n",
    "x_from = widgets.IntText(value=None, description='From:')\n",
    "x_to = widgets.IntText(value=None, description='To:')\n",
    "\n",
    "def handle_selection(event, widget):\n",
    "    try:\n",
    "        # `event['data']` is the event data\n",
    "        # `[0]` is the first argument, which is typically a dict\n",
    "        x_from.value = event['data'][0]['dataRange'][0][0]\n",
    "        x_to.value = event['data'][0]['dataRange'][0][1]\n",
    "    except:\n",
    "        # nothing\n",
    "\n",
    "widget.on('selection', handle_selection)\n",
    "widgets.jslink((widget, 'select_mode'), (select_mode, 'value'))"
   ]
  },
  {
   "cell_type": "code",
   "execution_count": 4,
   "metadata": {},
   "outputs": [
    {
     "data": {
      "application/vnd.jupyter.widget-view+json": {
       "model_id": "5af2e2777e6b4247b01c433abc193448",
       "version_major": 2,
       "version_minor": 0
      },
      "text/plain": [
       "HiGlassDisplay(viewconf={'editable': True, 'views': [{'uid': 'aa', 'tracks': {'top': [{'type': 'horizontal-chr…"
      ]
     },
     "metadata": {},
     "output_type": "display_data"
    }
   ],
   "source": [
    "widget"
   ]
  },
  {
   "cell_type": "code",
   "execution_count": 5,
   "metadata": {},
   "outputs": [
    {
     "data": {
      "application/vnd.jupyter.widget-view+json": {
       "model_id": "c26d3be137ae4631a59ccab901b8ab0d",
       "version_major": 2,
       "version_minor": 0
      },
      "text/plain": [
       "ToggleButton(value=False, description='Select Mode')"
      ]
     },
     "metadata": {},
     "output_type": "display_data"
    },
    {
     "data": {
      "application/vnd.jupyter.widget-view+json": {
       "model_id": "106777aa9d28407197ade40d2e57303d",
       "version_major": 2,
       "version_minor": 0
      },
      "text/plain": [
       "IntText(value=0, description='From:')"
      ]
     },
     "metadata": {},
     "output_type": "display_data"
    },
    {
     "data": {
      "application/vnd.jupyter.widget-view+json": {
       "model_id": "c80479c6d7af419bae13e0bb83ec6c4f",
       "version_major": 2,
       "version_minor": 0
      },
      "text/plain": [
       "IntText(value=0, description='To:')"
      ]
     },
     "metadata": {},
     "output_type": "display_data"
    }
   ],
   "source": [
    "display(select_mode, x_from, x_to)"
   ]
  },
  {
   "cell_type": "code",
   "execution_count": null,
   "metadata": {},
   "outputs": [],
   "source": []
  }
 ],
 "metadata": {
  "kernelspec": {
   "display_name": "Python 3",
   "language": "python",
   "name": "python3"
  },
  "language_info": {
   "codemirror_mode": {
    "name": "ipython",
    "version": 3
   },
   "file_extension": ".py",
   "mimetype": "text/x-python",
   "name": "python",
   "nbconvert_exporter": "python",
   "pygments_lexer": "ipython3",
   "version": "3.7.3"
  }
 },
 "nbformat": 4,
 "nbformat_minor": 4
}
